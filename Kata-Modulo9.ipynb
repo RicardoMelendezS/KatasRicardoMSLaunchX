{
  "cells": [
    {
      "cell_type": "markdown",
      "metadata": {},
      "source": [
        "# Ejercicio: Uso de funciones en Python"
      ]
    },
    {
      "cell_type": "markdown",
      "metadata": {},
      "source": [
        "### Ejercicio 1: Trabajar con argumentos en funciones\n",
        "\n",
        "Los argumentos requeridos en las funciones se utilizan cuando las funciones necesitan que esos argumentos funcionen correctamente. En este ejercicio, construirás un informe de combustible que requiere información de varias ubicaciones de combustible en todo el cohete.\n",
        "\n"
      ]
    },
    {
      "cell_type": "markdown",
      "metadata": {},
      "source": [
        "> **TIP**\n",
        "> Dedica unos minutos para tratar de encontrar una solución. Luego desplázate hacia abajo hasta la parte inferior para ver si has logrado compilar el programa de acuerdo con las especificaciones\n",
        "\n",
        "Comienza por crear una función que necesite tres lecturas de combustible y devuelva un informe:"
      ]
    },
    {
      "cell_type": "code",
      "execution_count": 3,
      "metadata": {},
      "outputs": [],
      "source": [
        "# Función para leer 3 tanques de combustible y muestre el promedio\n",
        "def fuel_report(first_tank, second_tank, third_tank):\n",
        "    fuel_average = (first_tank + second_tank + third_tank) / 3\n",
        "    return \"\"\"El promedio de combustible del cohete es del {}%.\n",
        "    Primer tanque: {}%\n",
        "    Segundo tanque: {}%\n",
        "    Tercer tanque: {}%\"\"\".format(fuel_average, first_tank, second_tank, third_tank)"
      ]
    },
    {
      "cell_type": "markdown",
      "metadata": {},
      "source": [
        "Ahora que hemos definido la función de informes, vamos a comprobarlo. Para esta misión, los tanques no están llenos:"
      ]
    },
    {
      "cell_type": "code",
      "execution_count": 4,
      "metadata": {},
      "outputs": [
        {
          "name": "stdout",
          "output_type": "stream",
          "text": [
            "El promedio de combustible del cohete es del 75.0%.\n",
            "    Primer tanque: 70%\n",
            "    Segundo tanque: 65%\n",
            "    Tercer tanque: 90%\n"
          ]
        }
      ],
      "source": [
        "\n",
        "# Llamamos a la función que genera el reporte print(funcion(tanque1, tanque2, tanque3))\n",
        "print(fuel_report(70, 65, 90))"
      ]
    },
    {
      "cell_type": "markdown",
      "metadata": {},
      "source": [
        "En lugar de simplemente crear el informe, la función también está calculando el promedio. Mejora la legibilidad extrayendo el cálculo promedio de la función en una nueva función para que el promedio se pueda hacer de forma independiente:"
      ]
    },
    {
      "cell_type": "code",
      "execution_count": 8,
      "metadata": {},
      "outputs": [
        {
          "name": "stdout",
          "output_type": "stream",
          "text": [
            "60.0\n"
          ]
        }
      ],
      "source": [
        "# Función promedio \n",
        "def average(*args):\n",
        "    total_sum = sum(args)\n",
        "    if total_sum == 0:\n",
        "        return \"No se puede calcular el promedio\"\n",
        "    else:\n",
        "        return total_sum / len(args)\n",
        "#######\n",
        "print(average(50, 60, 70))"
      ]
    },
    {
      "cell_type": "markdown",
      "metadata": {},
      "source": [
        "Ahora actualiza la función de informes para llamando a la nueva función del promedio:\n"
      ]
    },
    {
      "cell_type": "code",
      "execution_count": 9,
      "metadata": {},
      "outputs": [
        {
          "name": "stdout",
          "output_type": "stream",
          "text": [
            "El promedio de combustible del cohete es del 75.0%.\n",
            "    Primer tanque: 70%\n",
            "    Segundo tanque: 65%\n",
            "    Tercer tanque: 90%\n"
          ]
        }
      ],
      "source": [
        "# Actualiza la función\n",
        "def fuel_report(first_tank, second_tank, third_tank):\n",
        "    fuel_average = average(first_tank, second_tank, third_tank)\n",
        "    return \"\"\"El promedio de combustible del cohete es del {}%.\n",
        "    Primer tanque: {}%\n",
        "    Segundo tanque: {}%\n",
        "    Tercer tanque: {}%\"\"\".format(fuel_average, first_tank, second_tank, third_tank)\n",
        "####\n",
        "print(fuel_report(70, 65, 90))"
      ]
    },
    {
      "cell_type": "markdown",
      "metadata": {},
      "source": [
        "> Recuerda: Lo importante es intentarlo, puedes auxiliarte de internet, libros, etc. El objetivo de una kata es la comprobación de la comprensión de la lección y su aplicación inmediata a la resolución de problemas. Go for it!"
      ]
    },
    {
      "cell_type": "markdown",
      "metadata": {},
      "source": [
        "## Ejercicio 2: Trabajo con argumentos de palabra clave"
      ]
    },
    {
      "cell_type": "markdown",
      "metadata": {},
      "source": [
        "### Ejercicio : Trabajar con argumentos de palabras clave en funciones\n",
        "En este ejercicio, construirás un informe de cohete que requiere varias piezas de información, como el tiempo hasta el destino, el combustible a la izquierda y el nombre del destino. Comienza por crear una función que creará un informe preciso de la misión:"
      ]
    },
    {
      "cell_type": "code",
      "execution_count": 11,
      "metadata": {},
      "outputs": [
        {
          "name": "stdout",
          "output_type": "stream",
          "text": [
            "Informe preciso sobre la mision\n",
            "    ------------------------------------------\n",
            "    Tiempo de prelanzamiento: 20 min\n",
            "    Tiempo de vuelo: 150 min\n",
            "    Destino: Moon\n",
            "    Combustible en el tanque externo: 700 litros\n",
            "    Combustible en el tanque interno: 450 litros\n",
            "    \n"
          ]
        }
      ],
      "source": [
        "# Función con un informe preciso de la misión. Considera hora de prelanzamiento, tiempo de vuelo, destino, tanque externo y tanque interno\n",
        "def precise_report(pre_launch_time, flight_time, destination, external_tank, internal_tank):\n",
        "    return \"\"\"Informe preciso sobre la mision\n",
        "    ------------------------------------------\n",
        "    Tiempo de prelanzamiento: {} min\n",
        "    Tiempo de vuelo: {} min\n",
        "    Destino: {}\n",
        "    Combustible en el tanque externo: {} litros\n",
        "    Combustible en el tanque interno: {} litros\n",
        "    \"\"\".format(pre_launch_time, flight_time, destination, external_tank, internal_tank)\n",
        "#####\n",
        "print(precise_report(20, 150, \"Moon\", 700, 450))"
      ]
    },
    {
      "cell_type": "markdown",
      "metadata": {},
      "source": [
        "La función es problemática porque no se puede adaptar para minutos adicionales o tanques adicionales de combustible. Hazlo más flexible permitiendo cualquier número de pasos basados en el tiempo y cualquier número de tanques. En lugar de usar `*args` y `**kwargs`, aprovecha el hecho de que puedes usar cualquier nombre que desees. Asegurate que la función sea más legible mediante el uso de nombres de variables que están asociados con las entradas, como `*minutes` y `**fuel_reservoirs`:"
      ]
    },
    {
      "cell_type": "code",
      "execution_count": 12,
      "metadata": {},
      "outputs": [
        {
          "name": "stdout",
          "output_type": "stream",
          "text": [
            "Informe preciso sobre la mision\n",
            "    ------------------------------------------\n",
            "    Destino: Mars\n",
            "    Tiempo total de vuelo: 125 min\n",
            "    Cantidad total de combustible: 1250 lt\n",
            "    \n"
          ]
        }
      ],
      "source": [
        "# Escribe tu nueva función de reporte considerando lo anterior\n",
        "def precise_report(destination, *minutes, **fuel_tanks):\n",
        "    return \"\"\"Informe preciso sobre la mision\n",
        "    ------------------------------------------\n",
        "    Destino: {}\n",
        "    Tiempo total de vuelo: {} min\n",
        "    Cantidad total de combustible: {} lt\n",
        "    \"\"\".format(destination, sum(minutes), sum(fuel_tanks.values()))\n",
        "####\n",
        "print(precise_report(\"Mars\", 50, 20, 55, first_tank = 450, second_tank= 600, thrid_tank = 200))"
      ]
    },
    {
      "cell_type": "markdown",
      "metadata": {},
      "source": [
        "Debido a que el combustible que queda en los tanques es específico de cada tanque, actualiza la función para usar el nombre de cada tanque en el informe:"
      ]
    },
    {
      "cell_type": "code",
      "execution_count": 20,
      "metadata": {},
      "outputs": [
        {
          "name": "stdout",
          "output_type": "stream",
          "text": [
            "Informe preciso sobre la mision\n",
            "    ------------------------------------------\n",
            "    Destino: Mars\n",
            "    Tiempo total de vuelo: 125 min\n",
            "    first_tank tiene 450 lts\n",
            "    second_tank tiene 600 lts\n",
            "    thrid_tank tiene 200 lts\n",
            "    En total hay 1250 lts de combustible\n"
          ]
        }
      ],
      "source": [
        "# Escribe tu nueva función\n",
        "def precise_report(destination, *minutes, **fuel_tanks):\n",
        "    report = \"\"\"Informe preciso sobre la mision\n",
        "    ------------------------------------------\n",
        "    Destino: {}\n",
        "    Tiempo total de vuelo: {} min\n",
        "    \"\"\".format(destination, sum(minutes))\n",
        "    for tank_name, tank_fuel in fuel_tanks.items():\n",
        "        report += \"{} tiene {} lts\\n    \".format(tank_name, tank_fuel)\n",
        "    report += \"En total hay {} lts de combustible\".format(sum(fuel_tanks.values()))\n",
        "    return report\n",
        "####\n",
        "print(precise_report(\"Mars\", 50, 20, 55, first_tank = 450, second_tank= 600, thrid_tank = 200))"
      ]
    },
    {
      "cell_type": "markdown",
      "metadata": {},
      "source": [
        "---\n",
        "\n",
        "Curso Propedútico de Python para Launch X - Innovacción Virtual.\n",
        "\n",
        "Material desarrollado con base en los contenidos de MSLearn y la metáfora de LaunchX, traducción e implementación por: Fernanda Ochoa - Learning Producer de LaunchX.\n",
        "\n",
        "Redes:\n",
        "* GitHub: [FernandaOchoa](https://github.com/FernandaOchoa)\n",
        "* Twitter: [@imonsh](https://twitter.com/imonsh)\n",
        "* Instagram: [fherz8a](https://www.instagram.com/fherz8a/)"
      ]
    }
  ],
  "metadata": {
    "interpreter": {
      "hash": "205095b8b86ea82a021a8fc2ffba2b3bc9f8d0be25999901963b225939f75778"
    },
    "kernelspec": {
      "display_name": "Python 3.8.10 64-bit ('tmp': conda)",
      "name": "python3"
    },
    "language_info": {
      "codemirror_mode": {
        "name": "ipython",
        "version": 3
      },
      "file_extension": ".py",
      "mimetype": "text/x-python",
      "name": "python",
      "nbconvert_exporter": "python",
      "pygments_lexer": "ipython3",
      "version": "3.10.2"
    },
    "nteract": {
      "version": "nteract-front-end@1.0.0"
    },
    "orig_nbformat": 4
  },
  "nbformat": 4,
  "nbformat_minor": 2
}
